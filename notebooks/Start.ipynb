{
 "cells": [
  {
   "cell_type": "markdown",
   "id": "e42d109b",
   "metadata": {
    "pycharm": {
     "name": "#%% md\n"
    }
   },
   "source": [
    "# Initiation to Python: hands-on course\n",
    "\n",
    "Use this links to access the source on [GitHub](https://github.com/porvik/python-2021-11-18) or [Repl.it](https://replit.com/@porvik/lecture-python), available even after the lecture.\n",
    "\n",
    "## Lecture\n",
    "\n",
    "1. **[Introduction](LectureAndCode/Introduction.ipynb)**\n",
    "2. **[Hello World!](LectureAndCode/Chapter1/Chapter1.ipynb)** - a dummy CLI app generating random greeting\n",
    "* variables, types, basic structure (imports, modules, main and lists)\n",
    "3. **[Foundations of any larger app](LectureAndCode/Chapter2/Chapter2.ipynb)** - adding argument parser\n",
    "* operators, string formatting, argument parsing, dictionaries, sets\n",
    "4. **[Making a simplified grep](LectureAndCode/Chapter3/Chapter3.ipynb)** - reading text files and processing them\n",
    "* flow control, loops, functions, reading a file\n",
    "5. **[Evolving grep to egrep](LectureAndCode/Chapter4/Chapter4.ipynb)** - using regular expressions\n",
    "* regexp, classes and objects\n",
    "6. **[Making a simple log file analyzer](LectureAndCode/Chapter5/Chapter5.ipynb)** - creating second CLI app that analyzes log files based on configuration rules that uses previously introduced egrep\n",
    "* list comprehensions and generator expressions\n",
    "7. **[Improving the log analyzer](LectureAndCode/Chapter6/Chapter6.ipynb)** - adding configuration file and improving the output\n",
    "* JSON configuration instead of CLI args, pprint\n",
    "8. **[Extra stuff](LectureAndCode/Chapter7/Chapter7.ipynb)** - automating file organization based on rules\n",
    "* process, shutil, executing shell cmd and other bash commands\n",
    "\n",
    "## Chapter structure\n",
    "\n",
    "* Introduction and objective\n",
    "* Hands-on and short Q&A\n",
    "* Quiz\n",
    "* Code exercises\n",
    "* Quiz answers and short Q&A"
   ]
  }
 ],
 "metadata": {
  "kernelspec": {
   "display_name": "Python 3",
   "language": "python",
   "name": "python3"
  },
  "language_info": {
   "codemirror_mode": {
    "name": "ipython",
    "version": 3
   },
   "file_extension": ".py",
   "mimetype": "text/x-python",
   "name": "python",
   "nbconvert_exporter": "python",
   "pygments_lexer": "ipython3",
   "version": "3.9.6"
  }
 },
 "nbformat": 4,
 "nbformat_minor": 5
}