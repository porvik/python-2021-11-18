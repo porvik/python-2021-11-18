{
 "cells": [
  {
   "cell_type": "markdown",
   "id": "ae24d441",
   "metadata": {},
   "source": [
    "# Making a simplified [grep](https://www.man7.org/linux/man-pages/man1/grep.1.html)\n",
    "\n",
    "Enhancing our application with ability to scan and search in the input files and print those results. Also adding ability to perform recursive search."
   ]
  },
  {
   "cell_type": "markdown",
   "id": "fbd0915d",
   "metadata": {
    "pycharm": {
     "name": "#%% md\n"
    }
   },
   "source": [
    "## Objective\n",
    "\n",
    "To understand more about **flow control**, **loops**, **functions** and introduce **os** module."
   ]
  },
  {
   "cell_type": "markdown",
   "id": "78f35f27",
   "metadata": {},
   "source": [
    "## Flow control and loops\n",
    "\n",
    "To loop over iterable for loop is used and object must be iterable. Alternatively while loop can be used.\n",
    "\n",
    "```python\n",
    "for item in iterable:\n",
    "\t# Do something\n",
    "\n",
    "while logical_condition:\n",
    "\t# Do something\n",
    "else:\n",
    "    # Do something\n",
    "```\n",
    "\n",
    "To control flow there is if statement.\n",
    "\n",
    "```python\n",
    "if logical_condition:\n",
    "\t# Something\n",
    "elif logical_condition:\n",
    "\t# Something\n",
    "else:\n",
    "\t# Something\n",
    "```"
   ]
  },
  {
   "cell_type": "markdown",
   "id": "9d647cdd",
   "metadata": {},
   "source": [
    "## Functions\n",
    "\n",
    "To define a function we simply use `def` keyword as in the following examples:\n",
    "\n",
    "**Bad**\n",
    "\n",
    "```\n",
    "def CapCamelCase(): ...\n",
    "def mixCamelCase(): ...\n",
    "```\n",
    "\n",
    "**Good**\n",
    "\n",
    "```\n",
    "def func_separated_by_underscores(): ...\n",
    "```\n",
    "\n",
    "Arguments in python are passed by value for immutable types and by reference for mutable. The pythonic philosophy is that \"we're all consenting adults\": in this  case this means that \"the function shouldn't change the data\" is part of the spec but not enforced in the code."
   ]
  },
  {
   "cell_type": "markdown",
   "id": "c58b2e41",
   "metadata": {},
   "source": [
    "## Module - [os](https://docs.python.org/3/library/os.html)\n",
    "\n",
    "This module provides a portable way of using operating system dependent functionality.  If you just want to read or write a file see [`open()`](https://docs.python.org/3.9/library/functions.html#open), if you want to manipulate paths, see the [`os.path`](https://docs.python.org/3.9/library/os.path.html#module-os.path) module, and if you want to read all the lines in all the files on the command line see the [`fileinput`](https://docs.python.org/3.9/library/fileinput.html#module-fileinput) module.  For creating temporary files and directories see the [`tempfile`](https://docs.python.org/3.9/library/tempfile.html#module-tempfile) module, and for high-level file and directory handling see the [`shutil`](https://docs.python.org/3.9/library/shutil.html#module-shutil) module."
   ]
  },
  {
   "cell_type": "code",
   "execution_count": null,
   "id": "6669bee3-6567-405a-9741-8ab9bc9e2f81",
   "metadata": {},
   "outputs": [],
   "source": [
    "import os\n",
    "\n",
    "os.getcwd()\n",
    "for file in os.scandir(os.getcwd()):\n",
    "    print(file.path)"
   ]
  },
  {
   "cell_type": "markdown",
   "id": "351e6c7b-1623-4d9d-a0b2-f7da06e29180",
   "metadata": {},
   "source": [
    "## Hands-on"
   ]
  },
  {
   "cell_type": "code",
   "execution_count": 6,
   "id": "3c1b72a7-8e1d-4679-9063-18384a18544d",
   "metadata": {},
   "outputs": [
    {
     "name": "stderr",
     "output_type": "stream",
     "text": [
      "usage: ipykernel_launcher.py [-h] [-r RECURSIVE]\n",
      "                             search_term input_paths [input_paths ...]\n",
      "ipykernel_launcher.py: error: the following arguments are required: input_paths\n"
     ]
    },
    {
     "ename": "SystemExit",
     "evalue": "2",
     "output_type": "error",
     "traceback": [
      "An exception has occurred, use %tb to see the full traceback.\n",
      "\u001b[0;31mSystemExit\u001b[0m\u001b[0;31m:\u001b[0m 2\n"
     ]
    }
   ],
   "source": [
    "### Hands-on part\n",
    "import argparse\n",
    "import os\n",
    "import sys\n",
    "import colorama\n",
    "\n",
    "\n",
    "def search_in_path(search, input_path):\n",
    "    search_results = []\n",
    "    if os.path.isdir(input_path):\n",
    "        print('Scanning path: {:25s}'.format(input_path))\n",
    "        input_dir_contents = os.scandir(path=input_path)\n",
    "        for input_dir_element in input_dir_contents:\n",
    "            search_results.extend(search_in_path(search, input_dir_element.path))\n",
    "    else:\n",
    "        input_file = open(input_path, 'r')\n",
    "        print('Opening file: {:25s}'.format(input_file.name))\n",
    "        for input_line in input_file.readlines():\n",
    "            if input_line.find(search) >= 0:\n",
    "                search_results.append(input_line)\n",
    "    return search_results\n",
    "\n",
    "\n",
    "\n",
    "def main():\n",
    "    parser = argparse.ArgumentParser()\n",
    "    parser.add_argument('search_term', type=str, help='Pattern to search for')\n",
    "    parser.add_argument('input_paths', nargs='+', type=str, help='List of input file paths')\n",
    "    parser.add_argument('-r', '--recursive', type=str, help='Search recursively in directories')\n",
    "    args = parser.parse_args(sys.argv[1:])\n",
    "\n",
    "    for input_path in args.input_paths:\n",
    "        search_results = search_in_path(args.search_term, input_path)\n",
    "        print(\"{}{}\".format(colorama.Style.RESET_ALL, \"Search results:\"))\n",
    "        for search_result in search_results:\n",
    "            print(\"{}{}\".format(colorama.Fore.GREEN, search_result))\n",
    "\n",
    "\n",
    "if __name__ == '__main__':\n",
    "    main()"
   ]
  },
  {
   "cell_type": "markdown",
   "id": "eec51e82",
   "metadata": {},
   "source": [
    "## Quiz\n",
    "\n",
    "1. A `while` loop in Python is used for what type of iteration?\n",
    "\n",
    "- discriminant\n",
    "- Incorrect\n",
    "- definite\n",
    "- indeterminate\n",
    "- indefinite\n",
    "\n",
    "2. Will the `print()` statement on line 5 be executed in this case:\n",
    "\n",
    "```\n",
    "a = ['foo', 'bar', 'baz', 'qux', 'corge']\n",
    "while a:\n",
    "   print(a.pop())\n",
    "else:\n",
    "   print('Done.')\n",
    "```"
   ]
  },
  {
   "cell_type": "code",
   "execution_count": null,
   "id": "2f4c55b5",
   "metadata": {
    "autorun": false,
    "tags": []
   },
   "outputs": [],
   "source": [
    "from IPython.display import Markdown as md\n",
    "with open(f'Answers/Answers3.md') as file:\n",
    "    md_content = ''.join(file.readlines())\n",
    "md(md_content)"
   ]
  },
  {
   "cell_type": "markdown",
   "id": "d9eec2ac",
   "metadata": {
    "pycharm": {
     "name": "#%% md\n"
    },
    "tags": []
   },
   "source": [
    "[Previous chapter - Chapter2](Chapter2.ipynb) | [Next chapter - Chapter4](Chapter4.ipynb)"
   ]
  }
 ],
 "metadata": {
  "kernelspec": {
   "display_name": "Python 3 (ipykernel)",
   "language": "python",
   "name": "python3"
  },
  "language_info": {
   "codemirror_mode": {
    "name": "ipython",
    "version": 3
   },
   "file_extension": ".py",
   "mimetype": "text/x-python",
   "name": "python",
   "nbconvert_exporter": "python",
   "pygments_lexer": "ipython3",
   "version": "3.8.12"
  }
 },
 "nbformat": 4,
 "nbformat_minor": 5
}
