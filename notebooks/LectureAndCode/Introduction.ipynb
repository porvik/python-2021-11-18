{
 "cells": [
  {
   "cell_type": "markdown",
   "id": "5722eeb8",
   "metadata": {
    "pycharm": {
     "name": "#%% md\n"
    }
   },
   "source": [
    "# Introduction\n",
    "\n",
    "As all of the people have some experience with programing, there should be no need to explain basic concepts of OOP, algorithms and data structures, etc.\n",
    "\n",
    "Instead this course will focus on how to leverage specific features of Python in different scenarios.\n",
    "\n",
    "## Python pros\n",
    "\n",
    "- Its a real full feature programming language;\n",
    "- It can be properly debugged as such - unlike scripting ones that it aims to partially substitute / complement;\n",
    "- It is an interpreted language - it can be run as being written which has many uses in scientific or prototyping work;\n",
    "- It plays well with other languages;\n",
    "- It is almost always a part of the standard Linux distros;\n",
    "- It can be unit tested - maybe a bit of wishful thinking but it is very easy and feasible to write unit tests.\n",
    "- Python is a language specifications but it has many implementations: Cython, Jython, Python, etc.\n",
    "\n",
    "## Python cons\n",
    "\n",
    "- It is an interpreted language - obviously there is a cost in performance / speed, but anything can be mitigated with clever design;\n",
    "- Not statically typed - unless explicit type hinting, linter or quality analysis tools used the resulting code can end up very messy - ravioli code;\n",
    "- Many new features only in new versions.\n",
    "\n",
    "## Use cases\n",
    "\n",
    "- Web interface interaction automation with Selenium and Python;\n",
    "- Python application with C / C++ routines - Python GUI with C++ backend;\n",
    "- Python application with shell integration - Test tools / test harness;\n",
    "- Python web application with HTML / JS frontend;\n",
    "- Jython application using Python and Java at the same time.\n",
    "\n",
    "[Start](../Start.ipynb) | [Next chapter - Chapter1](Chapter1.ipynb)"
   ]
  },
  {
   "cell_type": "code",
   "execution_count": null,
   "id": "f96153cc-be8a-455b-868f-02efa55eae52",
   "metadata": {},
   "outputs": [],
   "source": []
  }
 ],
 "metadata": {
  "kernelspec": {
   "display_name": "Python 3 (ipykernel)",
   "language": "python",
   "name": "python3"
  },
  "language_info": {
   "codemirror_mode": {
    "name": "ipython",
    "version": 3
   },
   "file_extension": ".py",
   "mimetype": "text/x-python",
   "name": "python",
   "nbconvert_exporter": "python",
   "pygments_lexer": "ipython3",
   "version": "3.8.12"
  }
 },
 "nbformat": 4,
 "nbformat_minor": 5
}
