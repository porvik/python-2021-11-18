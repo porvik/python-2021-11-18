{
 "cells": [
  {
   "cell_type": "markdown",
   "id": "c3367341",
   "metadata": {},
   "source": [
    "# Improving the log analyzer\n",
    "\n",
    "Enhancing our second CLI application so that it can analyze multiple files in multiple formats and use JSON configuration instead of hard-coded values.\n",
    "\n",
    "## Objective \n",
    "\n",
    "To understand what is **JSON** and how to use it and another helpful module **pprint**.\n",
    "\n",
    "## JSON\n",
    "\n",
    "[`json`](https://docs.python.org/3/library/json.html#module-json) exposes an API familiar to users of the standard library [`marshal`](https://docs.python.org/3/library/marshal.html#module-marshal) and [`pickle`](https://docs.python.org/3/library/pickle.html#module-pickle) modules.\n",
    "\n",
    "### xml.etree.ElementTree\n",
    "\n",
    "The [`xml.etree.ElementTree`](https://docs.python.org/3/library/xml.etree.elementtree.html#module-xml.etree.ElementTree) module implements a simple and efficient API for parsing and creating XML data.\n",
    "\n",
    "## pprint\n",
    "\n",
    "The [`pprint`](https://docs.python.org/3.9/library/pprint.html?highlight=pprint#module-pprint) module provides a capability to “pretty-print” arbitrary Python data structures in a form which can be used as input to the interpreter."
   ]
  },
  {
   "cell_type": "code",
   "execution_count": null,
   "id": "341edf08",
   "metadata": {},
   "outputs": [],
   "source": []
  }
 ],
 "metadata": {
  "kernelspec": {
   "display_name": "Python 3",
   "language": "python",
   "name": "python3"
  },
  "language_info": {
   "codemirror_mode": {
    "name": "ipython",
    "version": 3
   },
   "file_extension": ".py",
   "mimetype": "text/x-python",
   "name": "python",
   "nbconvert_exporter": "python",
   "pygments_lexer": "ipython3",
   "version": "3.9.6"
  }
 },
 "nbformat": 4,
 "nbformat_minor": 5
}
