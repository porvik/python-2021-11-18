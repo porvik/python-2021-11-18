{
 "cells": [
  {
   "cell_type": "markdown",
   "id": "bd5002b2",
   "metadata": {},
   "source": [
    "# Making a simple log file analyzer\n",
    "Creating a second CLI application that analyzes log files and reutilizes egrep from previous chapters."
   ]
  },
  {
   "cell_type": "markdown",
   "id": "bb327810",
   "metadata": {},
   "source": [
    "## Objective\n",
    "\n",
    "To understand important concepts of **comprehensions** and **generators**."
   ]
  },
  {
   "cell_type": "markdown",
   "id": "fd1f1d34",
   "metadata": {},
   "source": [
    "## Comprehensions\n",
    "\n",
    "A **comprehension** is a concise way to create lists, tuples and dicts. Common applications are to make new arrays or maps where each element is the result of some operations applied to each member of another sequence or iterable, or to create a subsequence of those elements that satisfy a certain condition. This is no essentially different than running it within a loop or a function.\n",
    "\n",
    "If you run case below your will run out of memory.\n",
    "\n",
    "```python\n",
    "def find_even_number_function(number_stream):\n",
    "    even_number = []\n",
    "    for n in number_stream:\n",
    "        if n % 2 == 0:\n",
    "            even_number.append(n)\n",
    "    return even_number\n",
    "\n",
    "\n",
    "for i in find_even_number_function(range(1,1000000000)):\n",
    "    print(i)\n",
    "\n",
    "for i in [n for n in range(1, 1000000000) if n % 2 == 0]:\n",
    "    print(i)\n",
    "```"
   ]
  },
  {
   "cell_type": "markdown",
   "id": "cc6db85b",
   "metadata": {},
   "source": [
    "## Generators\n",
    "\n",
    "A **generator** is very similar to a function that returns  an array, in that a generator has parameters, can be called, and  generates a sequence of values. However, instead of building an array  containing all the values and returning them all at once, a generator `yields` the values one at a time, which requires less memory and allows the  caller to get started processing the first few values immediately. \n",
    "\n",
    "In principle generators are memory efficient for its lazy evaluation. \n",
    "\n",
    "If you run case below your will run out of time.\n",
    "\n",
    "```python\n",
    "def find_even_number_generator(number_stream):\n",
    "    for n in number_stream:\n",
    "        if n % 2 == 0:\n",
    "            yield n\n",
    "\n",
    "\n",
    "for i in find_even_number_generator(range(1, 1000000000)):\n",
    "    print(i)\n",
    "\n",
    "for i in (n for n in range(1, 1000000000) if n % 2 == 0):\n",
    "    print(i)\n",
    "```\n",
    "\n",
    "Difference between generator and normal function is that:\n",
    "\n",
    "- Once the function yields, the function is paused and the control is transferred to the caller.\n",
    "- When the function terminates, StopIteration is raised automatically on further calls.\n",
    "- Local variables and their states are remembered between successive calls.\n",
    "- Generator function contains one or more yield statement instead of return statement.\n",
    "- As the methods like `_next_()` and `_iter_()` are implemented automatically, we can iterate through the items using `next()`."
   ]
  },
  {
   "cell_type": "markdown",
   "id": "3f174326-d539-4fcc-a627-a751ad880d04",
   "metadata": {},
   "source": [
    "## Hands-on"
   ]
  },
  {
   "cell_type": "code",
   "execution_count": 2,
   "id": "40eb9ca7-02c0-4457-9437-bd1a14db684d",
   "metadata": {},
   "outputs": [
    {
     "name": "stderr",
     "output_type": "stream",
     "text": [
      "usage: ipykernel_launcher.py [-h] [-e] [-r RECURSIVE] [-o] [-H]\n",
      "                             search input_paths [input_paths ...]\n",
      "ipykernel_launcher.py: error: the following arguments are required: input_paths\n"
     ]
    },
    {
     "ename": "SystemExit",
     "evalue": "2",
     "output_type": "error",
     "traceback": [
      "An exception has occurred, use %tb to see the full traceback.\n",
      "\u001b[0;31mSystemExit\u001b[0m\u001b[0;31m:\u001b[0m 2\n"
     ]
    },
    {
     "name": "stderr",
     "output_type": "stream",
     "text": [
      "/opt/virtualenvs/python3/lib/python3.8/site-packages/IPython/core/interactiveshell.py:3452: UserWarning: To exit: use 'exit', 'quit', or Ctrl-D.\n",
      "  warn(\"To exit: use 'exit', 'quit', or Ctrl-D.\", stacklevel=1)\n"
     ]
    }
   ],
   "source": [
    "import argparse\n",
    "import os\n",
    "import re\n",
    "import sys\n",
    "import colorama\n",
    "\n",
    "\n",
    "class Grep:\n",
    "    def __init__(self, is_regex=False, only_matching=False, with_filename=False):\n",
    "        self._is_regex = is_regex\n",
    "        self._only_matching = only_matching\n",
    "        self._with_filename = with_filename\n",
    "\n",
    "    def search_in_string(self, search, search_string, return_groups=False):\n",
    "        search_result = None\n",
    "        search_groups = None\n",
    "        if self._is_regex:\n",
    "            search_result = re.search(search, search_string)\n",
    "            if search_result:\n",
    "                # if search_result := re.search(search, search_string):\n",
    "                # search_groups = search_result.groups()\n",
    "                search_groups = search_result.groupdict()\n",
    "                search_result = search_string[search_result.span()[0]:search_result.span()[1]] \\\n",
    "                    if self._only_matching else search_string\n",
    "        elif not self._is_regex and search_string.find(search) >= 0:\n",
    "            search_result = search_string\n",
    "        if return_groups:\n",
    "            return search_result, search_groups\n",
    "        else:\n",
    "            return search_result\n",
    "\n",
    "    def search_in_path(self, search, input_path):\n",
    "        search_results = []\n",
    "        if os.path.isdir(input_path):\n",
    "            print('Scanning path: {:25s}'.format(input_path))\n",
    "            input_dir_contents = os.scandir(path=input_path)\n",
    "            for input_dir_element in input_dir_contents:\n",
    "                search_results.extend(self.search_in_path(search, input_dir_element.path))\n",
    "        else:\n",
    "            input_file = open(input_path, 'r')\n",
    "            print('Opening file: {:25s}'.format(input_file.name))\n",
    "            for input_line in input_file.readlines():\n",
    "                search_result = self.search_in_string(search, input_line)\n",
    "                if search_result:\n",
    "                    search_results.append('{}: {}'.format(os.path.basename(input_file.name), search_result) \\\n",
    "                                              if self._with_filename else search_result)\n",
    "        return search_results\n",
    "\n",
    "\n",
    "def main():\n",
    "    parser = argparse.ArgumentParser()\n",
    "    parser.add_argument('search', type=str, help='Pattern to search for')\n",
    "    parser.add_argument('input_paths', nargs='+', type=str, help='List of input file paths')\n",
    "    parser.add_argument('-e', '--regex', dest='is_regexp', action='store_true', help='Use search as regexp')\n",
    "    parser.add_argument('-r', '--recursive', type=str, help='Search recursively in directories')\n",
    "    parser.add_argument('-o', '--only-matching', dest='only_matching', action='store_true',\n",
    "                        help='Show matched string only')\n",
    "    parser.add_argument('-H', '--with-filename', dest='with_filename', action='store_true',\n",
    "                        help='Show matched string only')\n",
    "    args = parser.parse_args(sys.argv[1:])\n",
    "\n",
    "    grep = Grep(args.is_regexp, args.only_matching, args.with_filename)\n",
    "    for input_path in args.input_paths:\n",
    "        search_results = grep.search_in_path(args.search, input_path)\n",
    "        print(colorama.Style.RESET_ALL + 'Search results:')\n",
    "        for search_result in search_results:\n",
    "            print(colorama.Fore.GREEN + search_result)\n",
    "\n",
    "\n",
    "if __name__ == '__main__':\n",
    "    main()"
   ]
  },
  {
   "cell_type": "markdown",
   "id": "f645e1f7",
   "metadata": {
    "pycharm": {
     "name": "#%% md\n"
    }
   },
   "source": [
    "[Previous chapter - Chapter4](Chapter4.ipynb) | [Next chapter - Chapter6](Chapter6.ipynb)"
   ]
  }
 ],
 "metadata": {
  "kernelspec": {
   "display_name": "Python 3 (ipykernel)",
   "language": "python",
   "name": "python3"
  },
  "language_info": {
   "codemirror_mode": {
    "name": "ipython",
    "version": 3
   },
   "file_extension": ".py",
   "mimetype": "text/x-python",
   "name": "python",
   "nbconvert_exporter": "python",
   "pygments_lexer": "ipython3",
   "version": "3.8.12"
  }
 },
 "nbformat": 4,
 "nbformat_minor": 5
}
