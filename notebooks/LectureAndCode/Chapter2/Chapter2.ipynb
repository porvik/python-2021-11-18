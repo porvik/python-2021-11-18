{
 "cells": [
  {
   "cell_type": "markdown",
   "id": "07bc5971",
   "metadata": {},
   "source": [
    "# Foundations of any larger app\n",
    "\n",
    "In this second chapter we will add an initial version of the argument parser and touch topics such as operators, string formatting and collections."
   ]
  },
  {
   "cell_type": "markdown",
   "id": "d579eccc",
   "metadata": {},
   "source": [
    "## Objective \n",
    "\n",
    "To understand the important **argparse** module and learn something about **operators**, **sequences** and **string formatting**."
   ]
  },
  {
   "cell_type": "markdown",
   "id": "df7bb03e",
   "metadata": {},
   "source": [
    "## An argument parser - argparse\n",
    "\n",
    "The [`argparse`](https://docs.python.org/2/library/argparse.html#module-argparse) module makes it easy to write user-friendly command-line interfaces. The program defines what arguments it requires, and [`argparse`](https://docs.python.org/2/library/argparse.html#module-argparse) will figure out how to parse those out of [`sys.argv`](https://docs.python.org/2/library/sys.html#sys.argv).  The [`argparse`](https://docs.python.org/2/library/argparse.html#module-argparse) module also automatically generates help and usage messages and issues errors when users give the program invalid arguments."
   ]
  },
  {
   "cell_type": "markdown",
   "id": "97fb80e8",
   "metadata": {},
   "source": [
    "## Sequences\n",
    "\n",
    "There are three basic sequence types: lists - mutable storing heterogenous object, tuples - immutable storing heterogenous or mutable, and range objects. Additional sequence types tailored for processing of [binary data](https://docs.python.org/3.9/library/stdtypes.html#binaryseq) and [text strings](https://docs.python.org/3.9/library/stdtypes.html#textseq) are described in dedicated sections. Also string is a sequence of Unicode characters."
   ]
  },
  {
   "cell_type": "markdown",
   "id": "2cb8a4d4",
   "metadata": {},
   "source": [
    "## Operators\n",
    "\n",
    "The [`operator`](https://docs.python.org/3/library/operator.html#module-operator) module exports a set of efficient functions corresponding to the intrinsic operators of Python.  Methods defined here can be defined or overridden to provide new or different operator functionality.\n",
    "\n",
    "Standard operators are:\n",
    "\n",
    "* Mathematical operators: + - * / // % ** (they actually mean calls to internal methods)\n",
    "* Boolean operators: **and or not**\n",
    "* True** and False constants"
   ]
  },
  {
   "cell_type": "markdown",
   "id": "07b91dd9",
   "metadata": {},
   "source": [
    "## String and string formatting with string.format()\n",
    "\n",
    "The built-in string class that provides the ability to do complex variable substitutions and value formatting via the [`format()`](https://docs.python.org/3.9/library/stdtypes.html#str.format) method described in [**PEP 3101**](https://www.python.org/dev/peps/pep-3101).  The [`Formatter`](https://docs.python.org/3.9/library/string.html#string.Formatter) class in the [`string`](https://docs.python.org/3.9/library/string.html#module-string) module allows you to create and customize your own string formatting behaviors using the same implementation as the built-in [`format()`](https://docs.python.org/3.9/library/stdtypes.html#str.format) method.\n",
    "\n",
    "```\n",
    "format_spec     ::=  [[fill]align][sign][#][0][width][grouping_option][.precision][type]\n",
    "fill            ::=  <any character>\n",
    "align           ::=  \"<\" | \">\" | \"=\" | \"^\"\n",
    "sign            ::=  \"+\" | \"-\" | \" \"\n",
    "width           ::=  digit+\n",
    "grouping_option ::=  \"_\" | \",\"\n",
    "precision       ::=  digit+\n",
    "type            ::=  \"b\" | \"c\" | \"d\" | \"e\" | \"E\" | \"f\" | \"F\" | \"g\" | \"G\" | \"n\" | \"o\" | \"s\" | \"x\" | \"X\" | \"%\"\n",
    "```\n",
    "\n",
    "For more details about individual options see [formatspec](https://docs.python.org/3.9/library/string.html#formatspec)."
   ]
  },
  {
   "cell_type": "markdown",
   "id": "a2443ce6",
   "metadata": {},
   "source": [
    "## Quiz\n",
    "\n",
    "1. What is the output of the `print()` function call? True or False?\n",
    "\n",
    "   ```python\n",
    "   s = 'foo'\n",
    "   t = 'bar'\n",
    "   print('barf' in 2 * (s + t))\n",
    "   ```\n",
    "\n",
    "2. What is the result of this statement?\n",
    "\n",
    "   ```\n",
    "   print(ord('foo'))\n",
    "   ```\n",
    "\n",
    "1. What is the slice expression that gives every third character of string `s`, starting with the last character and proceeding backward to the first?"
   ]
  },
  {
   "cell_type": "code",
   "execution_count": 3,
   "id": "6046dc1d",
   "metadata": {},
   "outputs": [
    {
     "data": {
      "text/plain": "<IPython.core.display.Markdown object>",
      "text/markdown": "# Answers\n\n1. Yes trough decorators\n2. \\w+\\ fox"
     },
     "execution_count": 3,
     "metadata": {},
     "output_type": "execute_result"
    }
   ],
   "source": [
    "from IPython.display import Markdown as md\n",
    "with open(f'../Answers/Answers4.md') as file:\n",
    "    md_content = ''.join(file.readlines())\n",
    "md(md_content)"
   ]
  },
  {
   "cell_type": "markdown",
   "source": [
    "## [Exercise2](../../Exercises/Chapter2)"
   ],
   "metadata": {
    "collapsed": false
   }
  }
 ],
 "metadata": {
  "kernelspec": {
   "display_name": "Python 3",
   "language": "python",
   "name": "python3"
  },
  "language_info": {
   "codemirror_mode": {
    "name": "ipython",
    "version": 3
   },
   "file_extension": ".py",
   "mimetype": "text/x-python",
   "name": "python",
   "nbconvert_exporter": "python",
   "pygments_lexer": "ipython3",
   "version": "3.9.6"
  }
 },
 "nbformat": 4,
 "nbformat_minor": 5
}