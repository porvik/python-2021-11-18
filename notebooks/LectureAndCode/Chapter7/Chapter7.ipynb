{
 "cells": [
  {
   "cell_type": "markdown",
   "id": "1ae164ad",
   "metadata": {},
   "source": [
    "# Extra stuff\n",
    "\n",
    "Demonstrating OS and FS interactions on a series of small examples."
   ]
  },
  {
   "cell_type": "markdown",
   "id": "8b2ab5a7",
   "metadata": {
    "pycharm": {
     "name": "#%% md\n"
    }
   },
   "source": [
    "## Objective\n",
    "\n",
    "To understand how to communicate with underlying OS, specifically **subprocess** calls and moving files around with **shutil**."
   ]
  }
 ],
 "metadata": {
  "kernelspec": {
   "display_name": "Python 3",
   "language": "python",
   "name": "python3"
  },
  "language_info": {
   "codemirror_mode": {
    "name": "ipython",
    "version": 3
   },
   "file_extension": ".py",
   "mimetype": "text/x-python",
   "name": "python",
   "nbconvert_exporter": "python",
   "pygments_lexer": "ipython3",
   "version": "3.9.6"
  }
 },
 "nbformat": 4,
 "nbformat_minor": 5
}