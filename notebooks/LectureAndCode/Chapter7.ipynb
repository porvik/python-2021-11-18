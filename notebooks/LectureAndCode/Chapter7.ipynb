{
 "cells": [
  {
   "cell_type": "markdown",
   "id": "1ae164ad",
   "metadata": {},
   "source": [
    "# Extra stuff\n",
    "\n",
    "Demonstrating OS and FS interactions on a series of small examples."
   ]
  },
  {
   "cell_type": "markdown",
   "id": "8b2ab5a7",
   "metadata": {
    "pycharm": {
     "name": "#%% md\n"
    }
   },
   "source": [
    "## Objective\n",
    "\n",
    "To understand how to communicate with underlying OS, specifically **subprocess** calls and moving files around with **shutil**."
   ]
  },
  {
   "cell_type": "markdown",
   "id": "12036059-fbb8-4f3a-bbc4-0c3e81ef8c2a",
   "metadata": {},
   "source": [
    "## Hands-on"
   ]
  },
  {
   "cell_type": "code",
   "execution_count": 1,
   "id": "06893032-cf00-4a14-861c-a1094c887d19",
   "metadata": {},
   "outputs": [
    {
     "name": "stdout",
     "output_type": "stream",
     "text": [
      "(b'Answers\\t\\tChapter3\\tChapter5.ipynb\\tIntroduction.ipynb\\nChapter1.ipynb\\tC'\n",
      " b'hapter3.ipynb\\tChapter6.ipynb\\nChapter2.ipynb\\tChapter4.ipynb\\tChapter7.ipyn'\n",
      " b'b\\n')\n"
     ]
    }
   ],
   "source": [
    "import pprint\n",
    "import subprocess\n",
    "\n",
    "\n",
    "# def shell_exec(*popenargs, **kwargs):\n",
    "#     cmd = kwargs.get('cmd')\n",
    "#     if cmd is None:\n",
    "#         cmd = popenargs[0]\n",
    "#     process = subprocess.Popen(stdout=subprocess.PIPE, shell=True, *popenargs, **kwargs)\n",
    "#     output, err = process.communicate()\n",
    "#     return output, err\n",
    "\n",
    "\n",
    "# def shell_exec(*popenargs, **kwargs):\n",
    "#     cmd = kwargs.get('cmd')\n",
    "#     if cmd is None:\n",
    "#         cmd = popenargs[0]\n",
    "#     process = subprocess.Popen(stdout=subprocess.PIPE, shell=True, *popenargs, args=cmd)\n",
    "#     output, err = process.communicate()\n",
    "#     return output, err\n",
    "\n",
    "\n",
    "def shell_exec(cmd=None):\n",
    "    process = subprocess.Popen(stdout=subprocess.PIPE, shell=True, args=cmd)\n",
    "    output, err = process.communicate()\n",
    "    return output, err\n",
    "\n",
    "\n",
    "def main():\n",
    "    # pprint.pprint(shell_exec(args='dir')[0])\n",
    "    # pprint.pprint(shell_exec(cmd='dir')[0])\n",
    "    pprint.pprint(shell_exec(cmd='dir')[0])\n",
    "\n",
    "\n",
    "if __name__ == '__main__':\n",
    "    main()"
   ]
  },
  {
   "cell_type": "markdown",
   "id": "b1656e5e-c392-43f6-a853-6ce16780cf55",
   "metadata": {},
   "source": [
    "[Previous chapter - Chapter6](Chapter6.ipynb)"
   ]
  }
 ],
 "metadata": {
  "kernelspec": {
   "display_name": "Python 3 (ipykernel)",
   "language": "python",
   "name": "python3"
  },
  "language_info": {
   "codemirror_mode": {
    "name": "ipython",
    "version": 3
   },
   "file_extension": ".py",
   "mimetype": "text/x-python",
   "name": "python",
   "nbconvert_exporter": "python",
   "pygments_lexer": "ipython3",
   "version": "3.8.12"
  }
 },
 "nbformat": 4,
 "nbformat_minor": 5
}
