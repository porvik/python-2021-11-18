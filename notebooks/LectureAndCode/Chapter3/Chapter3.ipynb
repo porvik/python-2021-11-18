{
 "cells": [
  {
   "cell_type": "markdown",
   "id": "ae24d441",
   "metadata": {},
   "source": [
    "# Making a simplified [grep](https://www.man7.org/linux/man-pages/man1/grep.1.html)\n",
    "\n",
    "Enhancing our application with ability to scan and search in the input files and print those results. Also adding ability to perform recursive search."
   ]
  },
  {
   "cell_type": "markdown",
   "source": [
    "## Objective\n",
    "\n",
    "To understand more about **flow control**, **loops**, **functions** and introduce **os** module."
   ],
   "metadata": {
    "collapsed": false,
    "pycharm": {
     "name": "#%% md\n"
    }
   }
  },
  {
   "cell_type": "markdown",
   "source": [
    "## Flow control and loops\n",
    "\n",
    "To loop over iterable for loop is used and object must be iterable. Alternatively while loop can be used.\n",
    "\n",
    "```python\n",
    "for item in iterable:\n",
    "\t# Do something\n",
    "\n",
    "while logical_condition:\n",
    "\t# Do something\n",
    "else:\n",
    "    # Do something\n",
    "```\n",
    "\n",
    "To control flow there is if statement.\n",
    "\n",
    "```python\n",
    "if logical_condition:\n",
    "\t# Something\n",
    "elif logical_condition:\n",
    "\t# Something\n",
    "else:\n",
    "\t# Something\n",
    "```"
   ],
   "metadata": {
    "collapsed": false
   }
  },
  {
   "cell_type": "markdown",
   "source": [
    "## Functions\n",
    "\n",
    "To define a function we simply use `def` keyword as in the following examples:\n",
    "\n",
    "**Bad**\n",
    "\n",
    "```\n",
    "def CapCamelCase(): ...\n",
    "def mixCamelCase(): ...\n",
    "```\n",
    "\n",
    "**Good**\n",
    "\n",
    "```\n",
    "def func_separated_by_underscores(): ...\n",
    "```\n",
    "\n",
    "Arguments in python are passed by value for immutable types and by reference for mutable. The pythonic philosophy is that \"we're all consenting adults\": in this  case this means that \"the function shouldn't change the data\" is part of the spec but not enforced in the code."
   ],
   "metadata": {
    "collapsed": false
   }
  },
  {
   "cell_type": "markdown",
   "source": [
    "## Module - os\n",
    "\n",
    "This module provides a portable way of using operating system dependent functionality.  If you just want to read or write a file see [`open()`](https://docs.python.org/3.9/library/functions.html#open), if you want to manipulate paths, see the [`os.path`](https://docs.python.org/3.9/library/os.path.html#module-os.path) module, and if you want to read all the lines in all the files on the command line see the [`fileinput`](https://docs.python.org/3.9/library/fileinput.html#module-fileinput) module.  For creating temporary files and directories see the [`tempfile`](https://docs.python.org/3.9/library/tempfile.html#module-tempfile) module, and for high-level file and directory handling see the [`shutil`](https://docs.python.org/3.9/library/shutil.html#module-shutil) module."
   ],
   "metadata": {
    "collapsed": false
   }
  },
  {
   "cell_type": "markdown",
   "source": [
    "## Quiz\n",
    "\n",
    "1. A `while` loop in Python is used for what type of iteration?\n",
    "\n",
    "    - discriminant\n",
    "- Incorrect\n",
    "    - definite\n",
    "- indeterminate\n",
    "    - indefinite\n",
    "\n",
    "2. Will the `print()` statement on line 5 be executed in this case:\n",
    "\n",
    "   ```\n",
    "   a = ['foo', 'bar', 'baz', 'qux', 'corge']\n",
    "   while a:\n",
    "       print(a.pop())\n",
    "   else:\n",
    "       print('Done.')\n",
    "   ```"
   ],
   "metadata": {
    "collapsed": false
   }
  },
  {
   "cell_type": "code",
   "execution_count": 1,
   "id": "2f4c55b5",
   "metadata": {},
   "outputs": [
    {
     "data": {
      "text/markdown": [
       "# Answers\n",
       "\n",
       "1. Incorrect\n",
       "2. Yes"
      ],
      "text/plain": [
       "<IPython.core.display.Markdown object>"
      ]
     },
     "execution_count": 1,
     "metadata": {},
     "output_type": "execute_result"
    }
   ],
   "source": [
    "from IPython.display import Markdown as md\n",
    "with open(f'../Answers/Answers3.md') as file:\n",
    "    md_content = ''.join(file.readlines())\n",
    "md(md_content)"
   ]
  },
  {
   "cell_type": "markdown",
   "id": "d9eec2ac",
   "metadata": {
    "pycharm": {
     "name": "#%% md\n"
    }
   },
   "source": [
    "## [Exercise3](../../Exercises/Chapter3)"
   ]
  }
 ],
 "metadata": {
  "kernelspec": {
   "display_name": "Python 3",
   "language": "python",
   "name": "python3"
  },
  "language_info": {
   "codemirror_mode": {
    "name": "ipython",
    "version": 3
   },
   "file_extension": ".py",
   "mimetype": "text/x-python",
   "name": "python",
   "nbconvert_exporter": "python",
   "pygments_lexer": "ipython3",
   "version": "3.9.6"
  }
 },
 "nbformat": 4,
 "nbformat_minor": 5
}