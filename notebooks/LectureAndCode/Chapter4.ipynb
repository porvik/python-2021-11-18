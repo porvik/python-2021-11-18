{
 "cells": [
  {
   "cell_type": "markdown",
   "id": "3ea5262a",
   "metadata": {},
   "source": [
    "# Evolving grep to egrep\n",
    "Enhancing further our application so it is able to perform searches based on regular expressions. Refactoring the code so move from function based to object oriented approach and extending our application with some new arguments."
   ]
  },
  {
   "cell_type": "markdown",
   "id": "65ef222d",
   "metadata": {},
   "source": [
    "## Objective\n",
    "\n",
    "To understand how to define and use **classes** and **objects** and how to use regular expressions from module **re**."
   ]
  },
  {
   "cell_type": "markdown",
   "id": "8bfa2523",
   "metadata": {},
   "source": [
    "## Classes and objects\n",
    "\n",
    "Classes are defined as in example:\n",
    "\n",
    "```\n",
    "class ClassName:\n",
    "\tdef __init__(self):\n",
    "\t\t# Constructor\n",
    "\n",
    "\tdef method_name(self):\n",
    "\t\t# Do something\n",
    "```\n",
    "\n",
    "**Self** argument is referring to the object itself."
   ]
  },
  {
   "cell_type": "markdown",
   "id": "2a3f14f7",
   "metadata": {},
   "source": [
    "## Regular expressions\n",
    "\n",
    "is module provides regular expression matching operations similar to those found in **Perl**.\n",
    "\n",
    "Following metacharacters and groups are supported:\n",
    "\n",
    "```\n",
    ". ^ $ * + ? { } [ ] \\ | ( )\n",
    "```\n",
    "\n",
    "`\\d` Matches any decimal digit; this is equivalent to the class `[0-9]`.\n",
    "\n",
    "`\\D`  Matches any non-digit character; this is equivalent to the class `[^0-9]`.\n",
    "\n",
    "`\\s` Matches any whitespace character; this is equivalent to the class `[ \\t\\n\\r\\f\\v]`.\n",
    "\n",
    "`\\S` Matches any non-whitespace character; this is equivalent to the class `[^ \\t\\n\\r\\f\\v]`.\n",
    "\n",
    "`\\w` Matches any alphanumeric character; this is equivalent to the class `[a-zA-Z0-9_]`.\n",
    "\n",
    "`\\W` Matches any non-alphanumeric character; this is equivalent to the class `[^a-zA-Z0-9_]`.\n",
    "\n",
    "And following special flags:\n",
    "\n",
    "| Flag                            | Meaning                                                      |\n",
    "| ------------------------------- | ------------------------------------------------------------ |\n",
    "| `ASCII`, `A`                    | Makes several escapes like `\\w`, `\\b`, `\\s` and `\\d` match only on ASCII characters with the respective property. |\n",
    "| `DOTALL`, `S`                   | Make `.` match any character, including newlines.            |\n",
    "| `IGNORECASE`, `I`               | Do case-insensitive matches.                                 |\n",
    "| `LOCALE`, `L`                   | Do a locale-aware match.                                     |\n",
    "| `MULTILINE`, `M`                | Multi-line matching, affecting `^` and `$`.                  |\n",
    "| `VERBOSE`, `X` (for ‘extended’) | Enable verbose REs, which can be organized more cleanly and understandably. |"
   ]
  },
  {
   "cell_type": "markdown",
   "id": "4f1755c8-8112-4b58-8ebf-b8eb24acb9eb",
   "metadata": {},
   "source": [
    "## Hands-on"
   ]
  },
  {
   "cell_type": "code",
   "execution_count": 2,
   "id": "eaa96280-b842-4701-a57f-89aee6179c9f",
   "metadata": {},
   "outputs": [
    {
     "name": "stderr",
     "output_type": "stream",
     "text": [
      "usage: ipykernel_launcher.py [-h] [-e] [-r RECURSIVE] [-o] [-H]\n",
      "                             search input_paths [input_paths ...]\n",
      "ipykernel_launcher.py: error: the following arguments are required: input_paths\n"
     ]
    },
    {
     "ename": "SystemExit",
     "evalue": "2",
     "output_type": "error",
     "traceback": [
      "An exception has occurred, use %tb to see the full traceback.\n",
      "\u001b[0;31mSystemExit\u001b[0m\u001b[0;31m:\u001b[0m 2\n"
     ]
    },
    {
     "name": "stderr",
     "output_type": "stream",
     "text": [
      "/opt/virtualenvs/python3/lib/python3.8/site-packages/IPython/core/interactiveshell.py:3452: UserWarning: To exit: use 'exit', 'quit', or Ctrl-D.\n",
      "  warn(\"To exit: use 'exit', 'quit', or Ctrl-D.\", stacklevel=1)\n"
     ]
    }
   ],
   "source": [
    "import argparse\n",
    "import os\n",
    "import re\n",
    "import sys\n",
    "import colorama\n",
    "\n",
    "\"\"\" 4.1 Implementing egrep using function \"\"\"\n",
    "# def search_in_path(search, input_path, is_regex=False, only_matching=False, with_filename=False):\n",
    "#     search_results = []\n",
    "#     if os.path.isdir(input_path):\n",
    "#         print('Scanning path: {:25s}'.format(input_path))\n",
    "#         input_dir_contents = os.scandir(path=input_path)\n",
    "#         for input_dir_element in input_dir_contents:\n",
    "#             search_results.extend(search_in_path(search, input_dir_element.path))\n",
    "#     else:\n",
    "#         input_file = open(input_path, 'r')\n",
    "#         print('Opening file: {:25s}'.format(input_file.name))\n",
    "#         for input_line in input_file.readlines():\n",
    "#             if is_regex:\n",
    "#                 if search_result := re.search(search, input_line):\n",
    "#                     search_result = input_line[search_result.span()[0]:search_result.span()[1]] \\\n",
    "#                         if only_matching else input_line\n",
    "#                     search_result = '{}: {}'.format(os.path.basename(input_path), search_result) \\\n",
    "#                         if with_filename else search_result\n",
    "#                     search_results.append(search_result)\n",
    "#             elif not is_regex and input_line.find(search) >= 0:\n",
    "#                 search_results.append(\n",
    "#                     '{}: {}'.format(os.path.basename(input_path), input_line) if with_filename else input_line)\n",
    "#     return search_results\n",
    "\n",
    "\"\"\" 4.2 Implementing egrep using class \"\"\"\n",
    "class Grep:\n",
    "    def __init__(self, is_regex=False, only_matching=False, with_filename=False):\n",
    "        self._is_regex = is_regex\n",
    "        self._only_matching = only_matching\n",
    "        self._with_filename = with_filename\n",
    "\n",
    "    def search_in_string(self, search, search_string):\n",
    "        search_result = None\n",
    "        if self._is_regex:\n",
    "            search_result = re.search(search, search_string)\n",
    "            # if search_result := re.search(search, search_string):\n",
    "            if search_result:\n",
    "                search_result = search_string[search_result.span()[0]:search_result.span()[1]] \\\n",
    "                    if self._only_matching else search_string\n",
    "        elif not self._is_regex and search_string.find(search) >= 0:\n",
    "            search_result = search_string\n",
    "        return search_result\n",
    "\n",
    "    def search_in_path(self, search, input_path):\n",
    "        search_results = []\n",
    "        if os.path.isdir(input_path):\n",
    "            print('Scanning path: {:25s}'.format(input_path))\n",
    "            input_dir_contents = os.scandir(path=input_path)\n",
    "            for input_dir_element in input_dir_contents:\n",
    "                search_results.extend(self.search_in_path(search, input_dir_element.path))\n",
    "        else:\n",
    "            input_file = open(input_path, 'r')\n",
    "            print('Opening file: {:25s}'.format(input_file.name))\n",
    "            for input_line in input_file.readlines():\n",
    "                search_result = self.search_in_string(search, input_line)\n",
    "                # if search_result := self.search_in_string(search, input_line):\n",
    "                if search_result:\n",
    "                    search_results.append('{}: {}'.format(os.path.basename(input_file.name), search_result) \\\n",
    "                                              if self._with_filename else search_result)\n",
    "        return search_results\n",
    "\n",
    "\n",
    "def main():\n",
    "    parser = argparse.ArgumentParser()\n",
    "    parser.add_argument('search', type=str, help='Pattern to search for')\n",
    "    parser.add_argument('input_paths', nargs='+', type=str, help='List of input file paths')\n",
    "    parser.add_argument('-e', '--regex', dest='is_regexp', action='store_true', help='Use search as regexp')\n",
    "    parser.add_argument('-r', '--recursive', type=str, help='Search recursively in directories')\n",
    "    parser.add_argument('-o', '--only-matching', dest='only_matching', action='store_true',\n",
    "                        help='Show matched string only')\n",
    "    parser.add_argument('-H', '--with-filename', dest='with_filename', action='store_true',\n",
    "                        help='Show matched string only')\n",
    "    args = parser.parse_args(sys.argv[1:])\n",
    "\n",
    "    \"\"\" 4.1 Implementing egrep using function \"\"\"\n",
    "    # for input_path in args.input_paths:\n",
    "    #     search_results = search_in_path(args.search, input_path, args.is_regexp, args.only_matching, args.with_filename)\n",
    "    #     print(colorama.Style.RESET_ALL + 'Search results:')\n",
    "    #     for search_result in search_results:\n",
    "    #         print(colorama.Fore.GREEN + search_result)\n",
    "\n",
    "    \"\"\" 4.2 Implementing egrep using class \"\"\"\n",
    "    grep = Grep(args.is_regexp, args.only_matching, args.with_filename)\n",
    "    for input_path in args.input_paths:\n",
    "        search_results = grep.search_in_path(args.search, input_path)\n",
    "        print(colorama.Style.RESET_ALL + 'Search results:')\n",
    "        for search_result in search_results:\n",
    "            print(colorama.Fore.GREEN + search_result)\n",
    "\n",
    "\n",
    "if __name__ == '__main__':\n",
    "    main()"
   ]
  },
  {
   "cell_type": "markdown",
   "id": "4554659a",
   "metadata": {},
   "source": [
    "## Quiz\n",
    "\n",
    "1. Can you have static class methods in Python?\n",
    "\n",
    "2. What is the regular expression to locate word **fox** in the sample text:\n",
    "\n",
    "   ```\n",
    "   The quick brown fox jumps over the lazy dog.\n",
    "   The quick brown dog jumps over the small fox.\n",
    "   The quick red fox jumps over the brown fox.\n",
    "   ```"
   ]
  },
  {
   "cell_type": "code",
   "execution_count": null,
   "id": "6fbc4e5a",
   "metadata": {
    "pycharm": {
     "name": "#%%\n"
    }
   },
   "outputs": [],
   "source": [
    "from IPython.display import Markdown as md\n",
    "with open(f'Answers/Answers4.md') as file:\n",
    "    md_content = ''.join(file.readlines())\n",
    "md(md_content)"
   ]
  },
  {
   "cell_type": "markdown",
   "id": "c8d12ae9",
   "metadata": {
    "pycharm": {
     "name": "#%% md\n"
    }
   },
   "source": [
    "[Previous chapter - Chapter3](Chapter3.ipynb) | [Next chapter - Chapter5](Chapter5.ipynb)"
   ]
  }
 ],
 "metadata": {
  "kernelspec": {
   "display_name": "Python 3 (ipykernel)",
   "language": "python",
   "name": "python3"
  },
  "language_info": {
   "codemirror_mode": {
    "name": "ipython",
    "version": 3
   },
   "file_extension": ".py",
   "mimetype": "text/x-python",
   "name": "python",
   "nbconvert_exporter": "python",
   "pygments_lexer": "ipython3",
   "version": "3.8.12"
  }
 },
 "nbformat": 4,
 "nbformat_minor": 5
}
