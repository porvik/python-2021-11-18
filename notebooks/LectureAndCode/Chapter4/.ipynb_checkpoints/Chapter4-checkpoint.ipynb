{
 "cells": [
  {
   "cell_type": "markdown",
   "id": "3ea5262a",
   "metadata": {},
   "source": [
    "# Evolving grep to egrep\n",
    "Enhancing further our application so it is able to perform searches based on regular expressions. Refactoring the code so move from function based to object oriented approach and extending our application with some new arguments.\n",
    "\n",
    "## Objective \n",
    "\n",
    "To understand how to define and use **classes** and **objects** and how to use regular expressions from module **re**.\n",
    "\n",
    "## Classes and objects\n",
    "\n",
    "Classes are defined as in example:\n",
    "\n",
    "```\n",
    "class ClassName:\n",
    "\tdef __init__(self):\n",
    "\t\t# Constructor\n",
    "\t\t\n",
    "\tdef method_name(self):\n",
    "\t\t# Do something\n",
    "```\n",
    "\n",
    "**Self** argument is referring to the object itself.\n",
    "\n",
    "## Regular expressions\n",
    "\n",
    "is module provides regular expression matching operations similar to those found in **Perl**.\n",
    "\n",
    "Following metacharacters and groups are supported:\n",
    "\n",
    "```\n",
    ". ^ $ * + ? { } [ ] \\ | ( )\n",
    "```\n",
    "\n",
    "`\\d` Matches any decimal digit; this is equivalent to the class `[0-9]`.\n",
    "\n",
    "`\\D`  Matches any non-digit character; this is equivalent to the class `[^0-9]`.\n",
    "\n",
    "`\\s` Matches any whitespace character; this is equivalent to the class `[ \\t\\n\\r\\f\\v]`.\n",
    "\n",
    "`\\S` Matches any non-whitespace character; this is equivalent to the class `[^ \\t\\n\\r\\f\\v]`.\n",
    "\n",
    "`\\w` Matches any alphanumeric character; this is equivalent to the class `[a-zA-Z0-9_]`.\n",
    "\n",
    "`\\W` Matches any non-alphanumeric character; this is equivalent to the class `[^a-zA-Z0-9_]`.\n",
    "\n",
    "And following special flags:\n",
    "\n",
    "| Flag                            | Meaning                                                      |\n",
    "| ------------------------------- | ------------------------------------------------------------ |\n",
    "| `ASCII`, `A`                    | Makes several escapes like `\\w`, `\\b`, `\\s` and `\\d` match only on ASCII characters with the respective property. |\n",
    "| `DOTALL`, `S`                   | Make `.` match any character, including newlines.            |\n",
    "| `IGNORECASE`, `I`               | Do case-insensitive matches.                                 |\n",
    "| `LOCALE`, `L`                   | Do a locale-aware match.                                     |\n",
    "| `MULTILINE`, `M`                | Multi-line matching, affecting `^` and `$`.                  |\n",
    "| `VERBOSE`, `X` (for ‘extended’) | Enable verbose REs, which can be organized more cleanly and understandably. |\n",
    "\n"
   ]
  },
  {
   "cell_type": "markdown",
   "id": "4554659a",
   "metadata": {},
   "source": [
    "## Quiz\n",
    "\n",
    "1. Can you have static class methods in Python?\n",
    "\n",
    "2. What is the regular expression to locate word **fox** in the sample text:\n",
    "\n",
    "   ```\n",
    "   The quick brown fox jumps over the lazy dog.\n",
    "   The quick brown dog jumps over the small fox.\n",
    "   The quick red fox jumps over the brown fox.\n",
    "   ```"
   ]
  },
  {
   "cell_type": "code",
   "execution_count": 1,
   "id": "6fbc4e5a",
   "metadata": {},
   "outputs": [
    {
     "data": {
      "text/markdown": [
       "# Answers\n",
       "\n",
       "1. Yes trough decorators\n",
       "2. \\w+\\ fox"
      ],
      "text/plain": [
       "<IPython.core.display.Markdown object>"
      ]
     },
     "execution_count": 1,
     "metadata": {},
     "output_type": "execute_result"
    }
   ],
   "source": [
    "from IPython.display import Markdown as md\n",
    "with open(f'../Answers/Answers4.md') as file:\n",
    "    md_content = ''.join(file.readlines())\n",
    "md(md_content)"
   ]
  },
  {
   "cell_type": "code",
   "execution_count": null,
   "id": "fe13e07b",
   "metadata": {},
   "outputs": [],
   "source": []
  }
 ],
 "metadata": {
  "kernelspec": {
   "display_name": "Python 3",
   "language": "python",
   "name": "python3"
  },
  "language_info": {
   "codemirror_mode": {
    "name": "ipython",
    "version": 3
   },
   "file_extension": ".py",
   "mimetype": "text/x-python",
   "name": "python",
   "nbconvert_exporter": "python",
   "pygments_lexer": "ipython3",
   "version": "3.9.6"
  }
 },
 "nbformat": 4,
 "nbformat_minor": 5
}
