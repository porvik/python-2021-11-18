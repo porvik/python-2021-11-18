{
 "cells": [
  {
   "cell_type": "markdown",
   "id": "bd5002b2",
   "metadata": {},
   "source": [
    "# Making a simple log file analyzer\n",
    "Creating a second CLI application that analyzes log files and reutilizes egrep from previous chapters.\n",
    "\n",
    "## Objective \n",
    "\n",
    "To understand important concepts of **comprehensions** and **generators**.\n",
    "\n",
    "## Comprehensions\n",
    "\n",
    "A **comprehension** is a concise way to create lists, tuples and dicts. Common applications are to make new arrays or maps where each element is the result of some operations applied to each member of another sequence or iterable, or to create a subsequence of those elements that satisfy a certain condition. This is no essentially different than running it within a loop or a function.\n",
    "\n",
    "If you run case below your will run out of memory.\n",
    "\n",
    "```python\n",
    "def find_even_number_function(number_stream):\n",
    "    even_number = []\n",
    "    for n in number_stream:\n",
    "        if n % 2 == 0:\n",
    "            even_number.append(n)\n",
    "    return even_number\n",
    "\n",
    "\n",
    "for i in find_even_number_function(range(1,1000000000)):\n",
    "    print(i)\n",
    "\n",
    "for i in [n for n in range(1, 1000000000) if n % 2 == 0]:\n",
    "    print(i)\n",
    "```   "
   ]
  },
  {
   "cell_type": "markdown",
   "id": "cc6db85b",
   "metadata": {},
   "source": [
    "## Generators\n",
    "\n",
    "A **generator** is very similar to a function that returns  an array, in that a generator has parameters, can be called, and  generates a sequence of values. However, instead of building an array  containing all the values and returning them all at once, a generator `yields` the values one at a time, which requires less memory and allows the  caller to get started processing the first few values immediately. \n",
    "\n",
    "In principle generators are memory efficient for its lazy evaluation. \n",
    "\n",
    "If you run case below your will run out of time.\n",
    "\n",
    "```python\n",
    "def find_even_number_generator(number_stream):\n",
    "    for n in number_stream:\n",
    "        if n % 2 == 0:\n",
    "            yield n\n",
    "\n",
    "\n",
    "for i in find_even_number_generator(range(1, 1000000000)):\n",
    "    print(i)\n",
    "\n",
    "for i in (n for n in range(1, 1000000000) if n % 2 == 0):\n",
    "    print(i)\n",
    "```\n",
    "\n",
    "Difference between generator and normal function is that:\n",
    "\n",
    "- Once the function yields, the function is paused and the control is transferred to the caller.\n",
    "- When the function terminates, StopIteration is raised automatically on further calls.\n",
    "- Local variables and their states are remembered between successive calls.\n",
    "- Generator function contains one or more yield statement instead of return statement.\n",
    "- As the methods like `_next_()` and `_iter_()` are implemented automatically, we can iterate through the items using `next()`."
   ]
  },
  {
   "cell_type": "code",
   "execution_count": null,
   "id": "f645e1f7",
   "metadata": {},
   "outputs": [],
   "source": [
    "## Exercises\n",
    "\n",
    "1. Write a Python script to generate and print a dictionary that contains a number (between 1 and n) in the form (x, factorial(x)).\n",
    "\n",
    "2. Write a Python program to filter dictionary values by values not matching certain condition:\n",
    "\n",
    "   ```\n",
    "   {'x': [11, 12, 13, 14, 15, 16, 17, 18, 19],\n",
    "   'y': [21, 22, 23, 24, 25, 26, 27, 28, 29],\n",
    "   'z': [31, 32, 33, 34, 35, 36, 37, 38, 39]}\n",
    "   ```\n",
    "\n",
    "   Filtered away all multipliers of 6:\n",
    "\n",
    "   ```\n",
    "   {'x': [11, 13, 14, 15, 16, 17, 19],\n",
    "   'y': [21, 22, 23, 25, 26, 27, 28, 29],\n",
    "   'z': [31, 32, 33, 34, 35, 37, 38, 39]}\n",
    "   ```"
   ]
  }
 ],
 "metadata": {
  "kernelspec": {
   "display_name": "Python 3",
   "language": "python",
   "name": "python3"
  },
  "language_info": {
   "codemirror_mode": {
    "name": "ipython",
    "version": 3
   },
   "file_extension": ".py",
   "mimetype": "text/x-python",
   "name": "python",
   "nbconvert_exporter": "python",
   "pygments_lexer": "ipython3",
   "version": "3.9.6"
  }
 },
 "nbformat": 4,
 "nbformat_minor": 5
}
