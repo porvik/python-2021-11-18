{
 "cells": [
  {
   "cell_type": "markdown",
   "id": "bd5002b2",
   "metadata": {},
   "source": [
    "# Making a simple log file analyzer\n",
    "Creating a second CLI application that analyzes log files and reutilizes egrep from previous chapters."
   ]
  },
  {
   "cell_type": "markdown",
   "source": [
    "## Objective\n",
    "\n",
    "To understand important concepts of **comprehensions** and **generators**."
   ],
   "metadata": {
    "collapsed": false
   }
  },
  {
   "cell_type": "markdown",
   "source": [
    "## Comprehensions\n",
    "\n",
    "A **comprehension** is a concise way to create lists, tuples and dicts. Common applications are to make new arrays or maps where each element is the result of some operations applied to each member of another sequence or iterable, or to create a subsequence of those elements that satisfy a certain condition. This is no essentially different than running it within a loop or a function.\n",
    "\n",
    "If you run case below your will run out of memory.\n",
    "\n",
    "```python\n",
    "def find_even_number_function(number_stream):\n",
    "    even_number = []\n",
    "    for n in number_stream:\n",
    "        if n % 2 == 0:\n",
    "            even_number.append(n)\n",
    "    return even_number\n",
    "\n",
    "\n",
    "for i in find_even_number_function(range(1,1000000000)):\n",
    "    print(i)\n",
    "\n",
    "for i in [n for n in range(1, 1000000000) if n % 2 == 0]:\n",
    "    print(i)\n",
    "```"
   ],
   "metadata": {
    "collapsed": false
   }
  },
  {
   "cell_type": "markdown",
   "id": "cc6db85b",
   "metadata": {},
   "source": [
    "## Generators\n",
    "\n",
    "A **generator** is very similar to a function that returns  an array, in that a generator has parameters, can be called, and  generates a sequence of values. However, instead of building an array  containing all the values and returning them all at once, a generator `yields` the values one at a time, which requires less memory and allows the  caller to get started processing the first few values immediately. \n",
    "\n",
    "In principle generators are memory efficient for its lazy evaluation. \n",
    "\n",
    "If you run case below your will run out of time.\n",
    "\n",
    "```python\n",
    "def find_even_number_generator(number_stream):\n",
    "    for n in number_stream:\n",
    "        if n % 2 == 0:\n",
    "            yield n\n",
    "\n",
    "\n",
    "for i in find_even_number_generator(range(1, 1000000000)):\n",
    "    print(i)\n",
    "\n",
    "for i in (n for n in range(1, 1000000000) if n % 2 == 0):\n",
    "    print(i)\n",
    "```\n",
    "\n",
    "Difference between generator and normal function is that:\n",
    "\n",
    "- Once the function yields, the function is paused and the control is transferred to the caller.\n",
    "- When the function terminates, StopIteration is raised automatically on further calls.\n",
    "- Local variables and their states are remembered between successive calls.\n",
    "- Generator function contains one or more yield statement instead of return statement.\n",
    "- As the methods like `_next_()` and `_iter_()` are implemented automatically, we can iterate through the items using `next()`."
   ]
  },
  {
   "cell_type": "markdown",
   "id": "f645e1f7",
   "metadata": {
    "pycharm": {
     "name": "#%% md\n"
    }
   },
   "source": [
    "## [Exercise5](../../Exercises/Chapter5)"
   ]
  }
 ],
 "metadata": {
  "kernelspec": {
   "display_name": "Python 3",
   "language": "python",
   "name": "python3"
  },
  "language_info": {
   "codemirror_mode": {
    "name": "ipython",
    "version": 3
   },
   "file_extension": ".py",
   "mimetype": "text/x-python",
   "name": "python",
   "nbconvert_exporter": "python",
   "pygments_lexer": "ipython3",
   "version": "3.9.6"
  }
 },
 "nbformat": 4,
 "nbformat_minor": 5
}