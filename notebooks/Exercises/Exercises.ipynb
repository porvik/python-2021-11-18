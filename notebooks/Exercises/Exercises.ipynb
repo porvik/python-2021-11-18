{
 "cells": [
  {
   "cell_type": "markdown",
   "id": "db7c643d-8d9a-4daf-a205-41449dffcabf",
   "metadata": {},
   "source": [
    "# Exercises"
   ]
  },
  {
   "cell_type": "markdown",
   "id": "57cff910-1940-4197-b873-4b9827cda206",
   "metadata": {},
   "source": [
    "## Chapter 1\n",
    "[NAME_SURNAME](Chapter1/Chapter%201%20%2D%20Exercises.ipynb)"
   ]
  },
  {
   "cell_type": "markdown",
   "id": "dab28b53-9b5b-42e9-9597-237c3ba9de5b",
   "metadata": {},
   "source": [
    "## Chapter 2\n",
    "[NAME_SURNAME](Chapter2/Chapter%202%20%2D%20Exercises.ipynb)"
   ]
  },
  {
   "cell_type": "markdown",
   "id": "0d6a5368-de23-436d-ae4e-ed950ba8fbd3",
   "metadata": {},
   "source": [
    "## Chapter 3\n",
    "[NAME_SURNAME](Chapter3/Chapter%203%20%2D%20Exercises.ipynb)"
   ]
  },
  {
   "cell_type": "markdown",
   "id": "898895c4-3eb6-48dc-8bd2-c179328e36c0",
   "metadata": {},
   "source": [
    "## Chapter 4\n",
    "[NAME_SURNAME](Chapter4/Chapter%204%20%2D%20Exercises.ipynb)"
   ]
  },
  {
   "cell_type": "markdown",
   "id": "2a618962-aac7-4663-92a9-7ccb7a0c0e08",
   "metadata": {},
   "source": [
    "## Chapter 5\n",
    "[NAME_SURNAME](Chapter5/Chapter%205%20%2D%20Exercises.ipynb)"
   ]
  }
 ],
 "metadata": {
  "kernelspec": {
   "display_name": "Python 3 (ipykernel)",
   "language": "python",
   "name": "python3"
  },
  "language_info": {
   "codemirror_mode": {
    "name": "ipython",
    "version": 3
   },
   "file_extension": ".py",
   "mimetype": "text/x-python",
   "name": "python",
   "nbconvert_exporter": "python",
   "pygments_lexer": "ipython3",
   "version": "3.8.12"
  }
 },
 "nbformat": 4,
 "nbformat_minor": 5
}
