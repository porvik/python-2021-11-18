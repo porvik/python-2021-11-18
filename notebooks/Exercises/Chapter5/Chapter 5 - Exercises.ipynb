{
 "cells": [
  {
   "cell_type": "markdown",
   "id": "be7a9196",
   "metadata": {},
   "source": [
    "# Chapter 5"
   ]
  },
  {
   "cell_type": "markdown",
   "id": "935888f0",
   "metadata": {
    "pycharm": {
     "name": "#%% md\n"
    }
   },
   "source": [
    "## Exercise 1\n",
    "Write a Python script to generate and print a dictionary that contains a number (between 1 and n) in the form (x, factorial(x))."
   ]
  },
  {
   "cell_type": "code",
   "execution_count": 2,
   "id": "3bd4301b",
   "metadata": {
    "collapsed": false,
    "jupyter": {
     "outputs_hidden": false
    },
    "pycharm": {
     "name": "#%%\n"
    }
   },
   "outputs": [
    {
     "name": "stdout",
     "output_type": "stream",
     "text": [
      "(1, 1)\n",
      "(2, 2)\n",
      "(3, 6)\n",
      "(4, 24)\n",
      "(5, 120)\n",
      "(6, 720)\n",
      "(7, 5040)\n",
      "(8, 40320)\n",
      "(9, 362880)\n",
      "(10, 3628800)\n",
      "(11, 39916800)\n",
      "(12, 479001600)\n",
      "(13, 6227020800)\n",
      "(14, 87178291200)\n",
      "(15, 1307674368000)\n",
      "(16, 20922789888000)\n",
      "(17, 355687428096000)\n",
      "(18, 6402373705728000)\n"
     ]
    }
   ],
   "source": [
    "# Exercise 1 - write you Python code here\n",
    "def generate_factorial(n):\n",
    "    f_dict = {}\n",
    "    for n in range(1, n + 1):\n",
    "        f_dict[n] = n * f_dict[n - 1] if n > 1 else n\n",
    "    return f_dict\n",
    "\n",
    "\n",
    "for f in generate_factorial(18).items():\n",
    "    print(f)"
   ]
  },
  {
   "cell_type": "markdown",
   "id": "ebbc967e",
   "metadata": {
    "pycharm": {
     "name": "#%% md\n"
    }
   },
   "source": [
    "## Exercise 2\n",
    "Write a Python program to filter dictionary values by values not matching certain condition:\n",
    "\n",
    "   ```\n",
    "   {'x': [11, 12, 13, 14, 15, 16, 17, 18, 19],\n",
    "   'y': [21, 22, 23, 24, 25, 26, 27, 28, 29],\n",
    "   'z': [31, 32, 33, 34, 35, 36, 37, 38, 39]}\n",
    "   ```\n",
    "\n",
    "   Filtered away all multipliers of 6:\n",
    "\n",
    "   ```\n",
    "   {'x': [11, 13, 14, 15, 16, 17, 19],\n",
    "   'y': [21, 22, 23, 25, 26, 27, 28, 29],\n",
    "   'z': [31, 32, 33, 34, 35, 37, 38, 39]}\n",
    "   ```"
   ]
  },
  {
   "cell_type": "code",
   "execution_count": 3,
   "id": "f01f5e89",
   "metadata": {
    "collapsed": false,
    "jupyter": {
     "outputs_hidden": false
    },
    "pycharm": {
     "name": "#%%\n"
    }
   },
   "outputs": [
    {
     "name": "stdout",
     "output_type": "stream",
     "text": [
      "x[12, 18]\n",
      "y[24]\n",
      "z[36]\n"
     ]
    }
   ],
   "source": [
    "# Exercise 2 - write you Python code here\n",
    "input_dict = {'x': [11, 12, 13, 14, 15, 16, 17, 18, 19],\n",
    "'y': [21, 22, 23, 24, 25, 26, 27, 28, 29],\n",
    "'z': [31, 32, 33, 34, 35, 36, 37, 38, 39]}\n",
    "\n",
    "for key, values in input_dict.items():\n",
    "    print('{}{}'.format(key, [value for value in values if value % 6 == 0]))"
   ]
  }
 ],
 "metadata": {
  "kernelspec": {
   "display_name": "Python 3 (ipykernel)",
   "language": "python",
   "name": "python3"
  },
  "language_info": {
   "codemirror_mode": {
    "name": "ipython",
    "version": 3
   },
   "file_extension": ".py",
   "mimetype": "text/x-python",
   "name": "python",
   "nbconvert_exporter": "python",
   "pygments_lexer": "ipython3",
   "version": "3.8.12"
  }
 },
 "nbformat": 4,
 "nbformat_minor": 5
}
