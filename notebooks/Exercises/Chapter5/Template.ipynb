{
 "cells": [
  {
   "cell_type": "markdown",
   "id": "be7a9196",
   "metadata": {},
   "source": [
    "## Exercise 5\n",
    "\n",
    "1. Write a Python script to generate and print a dictionary that contains a number (between 1 and n) in the form (x, factorial(x)).\n",
    "\n",
    "2. Write a Python program to filter dictionary values by values not matching certain condition:\n",
    "\n",
    "   ```\n",
    "   {'x': [11, 12, 13, 14, 15, 16, 17, 18, 19],\n",
    "   'y': [21, 22, 23, 24, 25, 26, 27, 28, 29],\n",
    "   'z': [31, 32, 33, 34, 35, 36, 37, 38, 39]}\n",
    "   ```\n",
    "\n",
    "   Filtered away all multipliers of 6:\n",
    "\n",
    "   ```\n",
    "   {'x': [11, 13, 14, 15, 16, 17, 19],\n",
    "   'y': [21, 22, 23, 25, 26, 27, 28, 29],\n",
    "   'z': [31, 32, 33, 34, 35, 37, 38, 39]}\n",
    "   ```"
   ]
  },
  {
   "cell_type": "code",
   "execution_count": null,
   "id": "ebbc967e",
   "metadata": {},
   "outputs": [],
   "source": []
  }
 ],
 "metadata": {
  "kernelspec": {
   "display_name": "Python 3",
   "language": "python",
   "name": "python3"
  },
  "language_info": {
   "codemirror_mode": {
    "name": "ipython",
    "version": 3
   },
   "file_extension": ".py",
   "mimetype": "text/x-python",
   "name": "python",
   "nbconvert_exporter": "python",
   "pygments_lexer": "ipython3",
   "version": "3.9.6"
  }
 },
 "nbformat": 4,
 "nbformat_minor": 5
}
