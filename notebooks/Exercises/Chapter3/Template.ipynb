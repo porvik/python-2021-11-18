{
 "cells": [
  {
   "cell_type": "markdown",
   "id": "be7a9196",
   "metadata": {},
   "source": [
    "# Chapter 3"
   ]
  },
  {
   "cell_type": "markdown",
   "source": [
    "## Exercise 1\n",
    "Write a Python program to construct the following pattern, using a nested for loop.\n",
    "\n",
    "```\n",
    "*               *\n",
    "* *           * *\n",
    "* * *       * * *\n",
    "* * * *   * * * *\n",
    "* * * * * * * * *\n",
    "```"
   ],
   "metadata": {
    "collapsed": false,
    "pycharm": {
     "name": "#%% md\n"
    }
   }
  },
  {
   "cell_type": "code",
   "execution_count": null,
   "outputs": [],
   "source": [
    "# Exercise 1 - write you Python code here"
   ],
   "metadata": {
    "collapsed": false,
    "pycharm": {
     "name": "#%%\n"
    }
   }
  },
  {
   "cell_type": "markdown",
   "source": [
    "## Exercise 2\n",
    "Write a Python program to take a list of paths (strings) as an argument and print separately parent folder of the file and the filename."
   ],
   "metadata": {
    "collapsed": false,
    "pycharm": {
     "name": "#%% md\n"
    }
   }
  },
  {
   "cell_type": "code",
   "execution_count": null,
   "id": "ebbc967e",
   "metadata": {},
   "outputs": [],
   "source": [
    "# Exercise 2 - write you Python code here"
   ]
  }
 ],
 "metadata": {
  "kernelspec": {
   "display_name": "Python 3",
   "language": "python",
   "name": "python3"
  },
  "language_info": {
   "codemirror_mode": {
    "name": "ipython",
    "version": 3
   },
   "file_extension": ".py",
   "mimetype": "text/x-python",
   "name": "python",
   "nbconvert_exporter": "python",
   "pygments_lexer": "ipython3",
   "version": "3.9.6"
  }
 },
 "nbformat": 4,
 "nbformat_minor": 5
}