{
 "cells": [
  {
   "cell_type": "markdown",
   "id": "be7a9196",
   "metadata": {},
   "source": [
    "## Exercise 3\n",
    "\n",
    "1. Write a Python program to construct the following pattern, using a nested for loop.\n",
    "\n",
    "   ```\n",
    "   *               *\n",
    "   * *           * *\n",
    "   * * *       * * *\n",
    "   * * * *   * * * *\n",
    "   * * * * * * * * *\n",
    "   ```\n",
    "2. Write a Python program to take a list of paths (strings) as an argument and print separately parent folder of the file and the filename."
   ]
  },
  {
   "cell_type": "code",
   "execution_count": null,
   "id": "ebbc967e",
   "metadata": {},
   "outputs": [],
   "source": []
  }
 ],
 "metadata": {
  "kernelspec": {
   "display_name": "Python 3",
   "language": "python",
   "name": "python3"
  },
  "language_info": {
   "codemirror_mode": {
    "name": "ipython",
    "version": 3
   },
   "file_extension": ".py",
   "mimetype": "text/x-python",
   "name": "python",
   "nbconvert_exporter": "python",
   "pygments_lexer": "ipython3",
   "version": "3.9.6"
  }
 },
 "nbformat": 4,
 "nbformat_minor": 5
}
