{
 "cells": [
  {
   "cell_type": "markdown",
   "id": "be7a9196",
   "metadata": {},
   "source": [
    "# Chapter 3"
   ]
  },
  {
   "cell_type": "markdown",
   "id": "b7e9d88a",
   "metadata": {
    "pycharm": {
     "name": "#%% md\n"
    }
   },
   "source": [
    "## Exercise 1\n",
    "Write a Python program to construct the following pattern, using a nested for loop.\n",
    "\n",
    "```\n",
    "*               *\n",
    "* *           * *\n",
    "* * *       * * *\n",
    "* * * *   * * * *\n",
    "* * * * * * * * *\n",
    "```"
   ]
  },
  {
   "cell_type": "code",
   "execution_count": null,
   "id": "9e11a854",
   "metadata": {
    "collapsed": false,
    "jupyter": {
     "outputs_hidden": false
    },
    "pycharm": {
     "name": "#%%\n"
    }
   },
   "outputs": [
    {
     "name": "stdout",
     "output_type": "stream",
     "text": [
      "*               *\n",
      "* *           * *\n",
      "* * *       * * *\n",
      "* * * *   * * * *\n",
      "* * * * * * * * *\n"
     ]
    }
   ],
   "source": [
    "# Exercise 1 - write you Python code here\n",
    "for row in range(0, 5):\n",
    "    for col in range(0, 17):\n",
    "        if col % 2 == 0 and ((col < (row + 1) * 2) or (col > (16 - (row + 1) * 2))):\n",
    "            print('*', end='')\n",
    "        else:\n",
    "            print(' ', end='')\n",
    "    print('')"
   ]
  },
  {
   "cell_type": "markdown",
   "id": "6ecb5cec",
   "metadata": {
    "pycharm": {
     "name": "#%% md\n"
    }
   },
   "source": [
    "## Exercise 2\n",
    "Write a Python program to take a list of paths (strings) as an argument and print separately parent folder of the file and the filename."
   ]
  },
  {
   "cell_type": "code",
   "execution_count": 2,
   "id": "ebbc967e",
   "metadata": {},
   "outputs": [
    {
     "name": "stdout",
     "output_type": "stream",
     "text": [
      "File: C:\\some\\path\\windows.dat\n",
      "Parent folder: \n",
      "\n",
      "File: file.txt\n",
      "Parent folder: relative_path/subfolder\n",
      "\n",
      "File: folder\n",
      "Parent folder: /unix\n",
      "\n"
     ]
    }
   ],
   "source": [
    "# Exercise 2 - write you Python code here\n",
    "import os\n",
    "\n",
    "paths = [\n",
    "    'C:\\some\\path\\windows.dat',\n",
    "    'relative_path/subfolder/file.txt',\n",
    "    '/unix/folder']\n",
    "for path in paths:\n",
    "    print('File: {}\\nParent folder: {}\\n'.format(os.path.basename(path), os.path.dirname(path)))"
   ]
  }
 ],
 "metadata": {
  "kernelspec": {
   "display_name": "Python 3 (ipykernel)",
   "language": "python",
   "name": "python3"
  },
  "language_info": {
   "codemirror_mode": {
    "name": "ipython",
    "version": 3
   },
   "file_extension": ".py",
   "mimetype": "text/x-python",
   "name": "python",
   "nbconvert_exporter": "python",
   "pygments_lexer": "ipython3",
   "version": "3.8.12"
  }
 },
 "nbformat": 4,
 "nbformat_minor": 5
}
