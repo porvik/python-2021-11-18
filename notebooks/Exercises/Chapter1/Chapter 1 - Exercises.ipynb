{
 "cells": [
  {
   "cell_type": "markdown",
   "id": "fd91a97b",
   "metadata": {},
   "source": [
    "# Chapter 1"
   ]
  },
  {
   "cell_type": "markdown",
   "id": "4b862771",
   "metadata": {
    "pycharm": {
     "name": "#%% md\n"
    },
    "tags": []
   },
   "source": [
    "## Exercise 1\n",
    "Write a Python program to print the following here document.\n",
    "\n",
    "Output string:\n",
    "\n",
    "\n",
    "> a string that you \"don't\" have to escape<br/>\n",
    "  This<br/>\n",
    "  is a ....... multi-line<br/>\n",
    "  heredoc string --------> example\n"
   ]
  },
  {
   "cell_type": "code",
   "execution_count": 4,
   "id": "999a1ff7",
   "metadata": {
    "collapsed": false,
    "jupyter": {
     "outputs_hidden": false
    },
    "pycharm": {
     "name": "#%%\n"
    }
   },
   "outputs": [
    {
     "name": "stdout",
     "output_type": "stream",
     "text": [
      "a string that you \"don't\" have to escape\n",
      "This\n",
      "is a ....... multi-line\n",
      "heredoc string --------> example\n"
     ]
    }
   ],
   "source": [
    "# Exercise 1 - write you Python code here\n",
    "print(\"\"\"a string that you \"don't\" have to escape\n",
    "This\n",
    "is a ....... multi-line\n",
    "heredoc string --------> example\"\"\")"
   ]
  },
  {
   "cell_type": "markdown",
   "id": "73cb75ce",
   "metadata": {
    "tags": []
   },
   "source": [
    "## Exercise 2\n",
    "Write a Python program to print the following string `The quick brown fox jumps over the lazy dog` in the format below:\n",
    "\n",
    "Output string:\n",
    "\n",
    "> The quick brown fox<br/>\n",
    "  &nbsp;&nbsp;&nbsp;&nbsp;jumps over<br/>\n",
    "  &nbsp;&nbsp;&nbsp;&nbsp;&nbsp;&nbsp;&nbsp;&nbsp;the lazy dog"
   ]
  },
  {
   "cell_type": "code",
   "execution_count": 5,
   "id": "368712c8",
   "metadata": {},
   "outputs": [
    {
     "name": "stdout",
     "output_type": "stream",
     "text": [
      "The quick brown fox\n",
      "\tumps over\n",
      "\t\tthe lazy dog\n"
     ]
    }
   ],
   "source": [
    "# Exercise 2 - write you Python code here\n",
    "print(\"\"\"The quick brown fox\n",
    "\\tumps over\n",
    "\\t\\tthe lazy dog\"\"\")"
   ]
  }
 ],
 "metadata": {
  "kernelspec": {
   "display_name": "Python 3 (ipykernel)",
   "language": "python",
   "name": "python3"
  },
  "language_info": {
   "codemirror_mode": {
    "name": "ipython",
    "version": 3
   },
   "file_extension": ".py",
   "mimetype": "text/x-python",
   "name": "python",
   "nbconvert_exporter": "python",
   "pygments_lexer": "ipython3",
   "version": "3.8.12"
  }
 },
 "nbformat": 4,
 "nbformat_minor": 5
}
