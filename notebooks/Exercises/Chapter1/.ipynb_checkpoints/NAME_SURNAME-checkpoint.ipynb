{
 "cells": [
  {
   "cell_type": "markdown",
   "id": "fd91a97b",
   "metadata": {},
   "source": [
    "# Chapter 1\n",
    "\n",
    "## Assinment"
   ]
  },
  {
   "cell_type": "markdown",
   "id": "73cb75ce",
   "metadata": {},
   "source": [
    "## Exercises\n",
    "\n",
    "1. Write a Python program to print the following here document.\n",
    "    *Sample string* :\n",
    "\n",
    "   ```\n",
    "    a string that you \"don't\" have to escape\n",
    "    This\n",
    "    is a ....... multi-line\n",
    "    heredoc string --------> example\n",
    "   ```\n",
    "\n",
    "2. Write a Python program to print the following string in a specific format (see the output).\n",
    "    *Sample String :*  `The quick brown fox jumps over the lazy dog` *Output :*\n",
    "\n",
    "   ```\n",
    "   The quick brown fox \n",
    "   \tjumps over \n",
    "   \t\tthe lazy dog\n",
    "   ```"
   ]
  },
  {
   "cell_type": "code",
   "execution_count": null,
   "id": "368712c8",
   "metadata": {},
   "outputs": [],
   "source": []
  }
 ],
 "metadata": {
  "kernelspec": {
   "display_name": "Python 3",
   "language": "python",
   "name": "python3"
  },
  "language_info": {
   "codemirror_mode": {
    "name": "ipython",
    "version": 3
   },
   "file_extension": ".py",
   "mimetype": "text/x-python",
   "name": "python",
   "nbconvert_exporter": "python",
   "pygments_lexer": "ipython3",
   "version": "3.9.6"
  }
 },
 "nbformat": 4,
 "nbformat_minor": 5
}
