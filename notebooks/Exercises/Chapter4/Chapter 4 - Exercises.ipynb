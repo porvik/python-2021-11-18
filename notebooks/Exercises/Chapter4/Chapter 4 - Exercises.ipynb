{
 "cells": [
  {
   "cell_type": "markdown",
   "id": "be7a9196",
   "metadata": {},
   "source": [
    "# Chapter 4"
   ]
  },
  {
   "cell_type": "markdown",
   "id": "f7958e1b",
   "metadata": {
    "pycharm": {
     "name": "#%% md\n"
    }
   },
   "source": [
    "## Exercise 1\n",
    "Write a Python class named Rectangle constructed by a length and width and a method which will compute the area of a rectangle."
   ]
  },
  {
   "cell_type": "code",
   "execution_count": 3,
   "id": "1021faf8",
   "metadata": {
    "collapsed": false,
    "jupyter": {
     "outputs_hidden": false
    },
    "pycharm": {
     "name": "#%%\n"
    }
   },
   "outputs": [
    {
     "name": "stdout",
     "output_type": "stream",
     "text": [
      "Aread of a rectangle 2x8 is 16\n"
     ]
    }
   ],
   "source": [
    "# Exercise 1 - write you Python code here\n",
    "class Rectangle():\n",
    "    def __init__(self, width, height):\n",
    "        self._width = width\n",
    "        self._height = height\n",
    "\n",
    "    def get_area(self):\n",
    "        return self._width * self._height\n",
    "\n",
    "    \n",
    "width = 2\n",
    "height = 8\n",
    "\n",
    "print('Aread of a rectangle {}x{} is {}'.format(\n",
    "    width, height, Rectangle(width, height).get_area()))"
   ]
  },
  {
   "cell_type": "markdown",
   "id": "0e9c56c4",
   "metadata": {
    "pycharm": {
     "name": "#%% md\n"
    }
   },
   "source": [
    "## Exercise 2\n",
    "Write a Python class to get all possible unique subsets from a set of distinct integers"
   ]
  },
  {
   "cell_type": "code",
   "execution_count": null,
   "id": "ebbc967e",
   "metadata": {},
   "outputs": [],
   "source": [
    "# Exercise 2 - write you Python code here"
   ]
  }
 ],
 "metadata": {
  "kernelspec": {
   "display_name": "Python 3 (ipykernel)",
   "language": "python",
   "name": "python3"
  },
  "language_info": {
   "codemirror_mode": {
    "name": "ipython",
    "version": 3
   },
   "file_extension": ".py",
   "mimetype": "text/x-python",
   "name": "python",
   "nbconvert_exporter": "python",
   "pygments_lexer": "ipython3",
   "version": "3.8.12"
  }
 },
 "nbformat": 4,
 "nbformat_minor": 5
}
