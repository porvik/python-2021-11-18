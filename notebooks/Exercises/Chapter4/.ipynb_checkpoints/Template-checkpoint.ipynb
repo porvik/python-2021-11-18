{
 "cells": [
  {
   "cell_type": "markdown",
   "id": "be7a9196",
   "metadata": {},
   "source": [
    "## Exercise 4\n",
    "\n",
    "1. Write a Python class named Rectangle constructed by a length and width and a method which will compute the area of a rectangle.\n",
    "\n",
    "2. Write a Python class to get all possible unique subsets from a set of distinct integers"
   ]
  },
  {
   "cell_type": "code",
   "execution_count": null,
   "id": "ebbc967e",
   "metadata": {},
   "outputs": [],
   "source": []
  }
 ],
 "metadata": {
  "kernelspec": {
   "display_name": "Python 3",
   "language": "python",
   "name": "python3"
  },
  "language_info": {
   "codemirror_mode": {
    "name": "ipython",
    "version": 3
   },
   "file_extension": ".py",
   "mimetype": "text/x-python",
   "name": "python",
   "nbconvert_exporter": "python",
   "pygments_lexer": "ipython3",
   "version": "3.9.6"
  }
 },
 "nbformat": 4,
 "nbformat_minor": 5
}
