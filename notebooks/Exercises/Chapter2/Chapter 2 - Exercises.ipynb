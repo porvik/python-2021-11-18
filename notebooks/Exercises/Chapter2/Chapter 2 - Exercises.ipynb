{
 "cells": [
  {
   "cell_type": "markdown",
   "id": "be7a9196",
   "metadata": {},
   "source": [
    "# Chapter 2"
   ]
  },
  {
   "cell_type": "markdown",
   "id": "88f2306e",
   "metadata": {
    "pycharm": {
     "name": "#%% md\n"
    }
   },
   "source": [
    "## Exercise 1\n",
    "Write a Python program to get a string made of the first 2 and the last 2 chars from a given a string. If the string length is less than 2,  return instead of the empty string.\n",
    "\n",
    "```\n",
    "Sample String : 'w3resource'\n",
    "Expected Result : 'w3ce'\n",
    "Sample String : 'w3'\n",
    "Expected Result : 'w3w3'\n",
    "Sample String : ' w'\n",
    "Expected Result : Empty String\n",
    "```"
   ]
  },
  {
   "cell_type": "code",
   "execution_count": 1,
   "id": "ebbc967e",
   "metadata": {},
   "outputs": [
    {
     "name": "stdout",
     "output_type": "stream",
     "text": [
      "w3ce\n",
      "w3w3\n",
      "Empty string\n"
     ]
    }
   ],
   "source": [
    "# Exercise 1 - write you Python code here\n",
    "input_string = 'w3resource'\n",
    "print(input_string[0:2] + input_string[-2:] if len(input_string) > 1 else '')\n",
    "input_string = 'w3'\n",
    "print(input_string[0:2] + input_string[-2:] if len(input_string) > 1 else '')\n",
    "input_string = 'w'\n",
    "print(input_string[0:2] + input_string[-2:] if len(input_string) > 1 else 'Empty string')"
   ]
  },
  {
   "cell_type": "markdown",
   "id": "ec7ca380",
   "metadata": {
    "pycharm": {
     "name": "#%% md\n"
    }
   },
   "source": [
    "## Exercise 2\n",
    "Having following input data:\n",
    "\n",
    "```\n",
    "log_level = 'DEBUG'\n",
    "date = '2020-11-05'\n",
    "message = 'Leak detected'\n",
    "```\n",
    "\n",
    "Print the following message: `[DEBUG ] 2020-11-05 : Leak detected`"
   ]
  },
  {
   "cell_type": "code",
   "execution_count": 3,
   "id": "0de070dc",
   "metadata": {
    "collapsed": false,
    "jupyter": {
     "outputs_hidden": false
    },
    "pycharm": {
     "name": "#%%\n"
    }
   },
   "outputs": [
    {
     "name": "stdout",
     "output_type": "stream",
     "text": [
      "[DEBUG ] 2020-11-05 : Leak detected\n"
     ]
    }
   ],
   "source": [
    "# Exercise 2 - write you Python code here\n",
    "log_level = 'DEBUG'\n",
    "date = '2020-11-05'\n",
    "message = 'Leak detected'\n",
    "print('[{:<6}] {} : {}'.format(log_level, date, message))"
   ]
  }
 ],
 "metadata": {
  "kernelspec": {
   "display_name": "Python 3 (ipykernel)",
   "language": "python",
   "name": "python3"
  },
  "language_info": {
   "codemirror_mode": {
    "name": "ipython",
    "version": 3
   },
   "file_extension": ".py",
   "mimetype": "text/x-python",
   "name": "python",
   "nbconvert_exporter": "python",
   "pygments_lexer": "ipython3",
   "version": "3.8.12"
  }
 },
 "nbformat": 4,
 "nbformat_minor": 5
}
