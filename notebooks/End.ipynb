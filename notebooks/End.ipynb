{
 "cells": [
  {
   "cell_type": "markdown",
   "id": "e42d109b",
   "metadata": {
    "pycharm": {
     "name": "#%% md\n"
    }
   },
   "source": [
    "# Initiation to Python: hands-on course\n",
    "\n",
    "## If you want to learn more\n",
    "\n",
    "* https://automatetheboringstuff.com/ - A great book for winter time reading, definitely helps you to understand more about how super useful Python is, all that trough practical examples\n",
    "\n",
    "## References and sources\n",
    "\n",
    "* https://docs.python.org/3.9\n",
    "* https://stackoverflow.com\n",
    "* https://www.pythonlikeyoumeanit.com\n",
    "* https://jeffknupp.com/blog/2012/11/13/is-python-callbyvalue-or-callbyreference-neither/\n",
    "* https://book.pythontips.com/en/latest\n",
    "* https://realpython.com/quizzes/\n",
    "* https://www.geeksforgeeks.org\n",
    "\n",
    "## Q&A\n",
    "Any questions?"
   ]
  }
 ],
 "metadata": {
  "kernelspec": {
   "display_name": "Python 3 (ipykernel)",
   "language": "python",
   "name": "python3"
  },
  "language_info": {
   "codemirror_mode": {
    "name": "ipython",
    "version": 3
   },
   "file_extension": ".py",
   "mimetype": "text/x-python",
   "name": "python",
   "nbconvert_exporter": "python",
   "pygments_lexer": "ipython3",
   "version": "3.8.12"
  }
 },
 "nbformat": 4,
 "nbformat_minor": 5
}
