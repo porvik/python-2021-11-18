{
 "cells": [
  {
   "cell_type": "markdown",
   "id": "e42d109b",
   "metadata": {},
   "source": [
    "# Python training 1\n",
    "\n",
    "Use this access the code on [Repl.it](https://repl.it/@porvik/python-training-1).\n",
    "\n",
    "## Lecture\n",
    "\n",
    "1. **[Introduction](LectureAndCode/Introduction.ipynb)**\n",
    "2. **[Hello World!](LectureAndCode/Chapter1/Chapter1.ipynb)** - a dummy CLI app generating random greeting\n",
    "* variables, types, basic structure (imports, modules, main and lists)\n",
    "3. **[Foundations of any larger app](LectureAndCode/Chapter2/Chapter2.ipynb)** - adding argument parser\n",
    "* operators, string formatting, argument parsing, dictionaries, sets\n",
    "4. **[Making a simplified grep](LectureAndCode/Chapter3/Chapter3.ipynb)** - reading text files and processing them\n",
    "* flow control, loops, functions, reading a file\n",
    "5. **[Evolving grep to egrep](LectureAndCode/Chapter4/Chapter4.ipynb)** - using regular expressions\n",
    "* regexp, classes and objects\n",
    "6. **[Making a simple log file analyzer](LectureAndCode/Chapter5/Chapter5.ipynb)** - creating second CLI app that analyzes log files based on configuration rules that uses previously introduced egrep\n",
    "* list comprehensions and generator expressions\n",
    "7. **[Improving the log analyzer](LectureAndCode/Chapter6/Chapter6.ipynb)** - adding configuration file and improving the output\n",
    "* JSON configuration instead of CLI args, pprint\n",
    "8. **[Extra stuff](LectureAndCode/Chapter7/Chapter7.ipynb)** - automating file organization based on rules\n",
    "* process, shutil, executing shell cmd and other bash commands\n",
    "\n",
    "## If you want to learn more\n",
    "\n",
    "* https://automatetheboringstuff.com/ - A great book for winter time reading, definitely helps you to understand more about how super useful Python is, all that trough practical examples\n",
    "\n",
    "## References and sources\n",
    "\n",
    "1. https://docs.python.org/3.9\n",
    "2. https://stackoverflow.com\n",
    "3. https://www.pythonlikeyoumeanit.com\n",
    "4. https://jeffknupp.com/blog/2012/11/13/is-python-callbyvalue-or-callbyreference-neither/\n",
    "5. https://book.pythontips.com/en/latest\n",
    "6. https://realpython.com/quizzes/\n",
    "7. https://www.geeksforgeeks.org\n",
    "\n",
    "## Q&A\n",
    "Any questions?"
   ]
  },
  {
   "cell_type": "code",
   "execution_count": null,
   "id": "e8c935b5",
   "metadata": {},
   "outputs": [],
   "source": []
  }
 ],
 "metadata": {
  "kernelspec": {
   "display_name": "Python 3",
   "language": "python",
   "name": "python3"
  },
  "language_info": {
   "codemirror_mode": {
    "name": "ipython",
    "version": 3
   },
   "file_extension": ".py",
   "mimetype": "text/x-python",
   "name": "python",
   "nbconvert_exporter": "python",
   "pygments_lexer": "ipython3",
   "version": "3.9.6"
  }
 },
 "nbformat": 4,
 "nbformat_minor": 5
}
